{
 "cells": [
  {
   "cell_type": "code",
   "execution_count": 1,
   "metadata": {},
   "outputs": [
    {
     "name": "stdout",
     "output_type": "stream",
     "text": [
      "hello world!\n",
      "nice to meet you,name\n"
     ]
    }
   ],
   "source": [
    "def main():\n",
    "    print(\"hello world!\")\n",
    "    name=(\"whats your name?\")\n",
    "    print(\"nice to meet you,name\");\n",
    "main();"
   ]
  },
  {
   "cell_type": "code",
   "execution_count": 14,
   "metadata": {},
   "outputs": [
    {
     "name": "stdout",
     "output_type": "stream",
     "text": [
      "mystr\n"
     ]
    }
   ],
   "source": [
    "# ** global vs local **\n",
    "global mystr\n",
    "def somefunction():\n",
    "    mystr=\"def\"\n",
    "    print(\"mystr\")\n",
    "somefunction()"
   ]
  },
  {
   "cell_type": "code",
   "execution_count": 20,
   "metadata": {},
   "outputs": [
    {
     "name": "stdout",
     "output_type": "stream",
     "text": [
      "nandini\n"
     ]
    }
   ],
   "source": [
    "def somefunction():\n",
    "    global nandini\n",
    "    mystr=\"nandini\"\n",
    "    print(\"nandini\")\n",
    "somefunction()"
   ]
  }
 ],
 "metadata": {
  "kernelspec": {
   "display_name": "Python 3",
   "language": "python",
   "name": "python3"
  },
  "language_info": {
   "codemirror_mode": {
    "name": "ipython",
    "version": 3
   },
   "file_extension": ".py",
   "mimetype": "text/x-python",
   "name": "python",
   "nbconvert_exporter": "python",
   "pygments_lexer": "ipython3",
   "version": "3.12.3"
  }
 },
 "nbformat": 4,
 "nbformat_minor": 2
}
