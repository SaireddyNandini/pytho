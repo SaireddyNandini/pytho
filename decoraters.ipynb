{
 "cells": [
  {
   "cell_type": "code",
   "execution_count": 1,
   "metadata": {},
   "outputs": [
    {
     "name": "stdout",
     "output_type": "stream",
     "text": [
      "nandini is logged in succesfully\n",
      " this is a secured function of nandini\n"
     ]
    }
   ],
   "source": [
    "# @authentication\n",
    "\n",
    "def authentication(main):          #1\n",
    "    def inner(username,password):     #3\n",
    "        valid_user=input('enter the username :')         #6\n",
    "        valid_password=input('enter the password :')    #7\n",
    "        if valid_user==username and valid_password==password:   #8\n",
    "            print(f\"{username} is logged in succesfully\")\n",
    "            main(username)\n",
    "        else:\n",
    "            raise Exception(\"inavalid username\")\n",
    "    return inner          #4\n",
    "@authentication        #2\n",
    "def secure(username):      \n",
    "    print(f\" this is a secured function of {username}\")    #10\n",
    "secure(\"nandini\",\"Nandini$123\")        #5"
   ]
  },
  {
   "cell_type": "code",
   "execution_count": 1,
   "metadata": {},
   "outputs": [
    {
     "name": "stdout",
     "output_type": "stream",
     "text": [
      "enter otp to confirm\n",
      "5000has been debited from your account\n",
      "enter otp to confirm\n",
      "{money}current account balance\n"
     ]
    }
   ],
   "source": [
    "import time\n",
    "def outer(main):\n",
    "    def inner(*args,**kwargs):\n",
    "        time.sleep(2)\n",
    "        print(\"enter otp to confirm\")\n",
    "        time.sleep(5)\n",
    "        main(*args,**kwargs)\n",
    "    return inner\n",
    "@outer\n",
    "def withdraw(money):\n",
    "    print(f\"{money}has been debited from your account\")\n",
    "withdraw(5000)\n",
    "@outer\n",
    "def balance(money):\n",
    "    print(\"{money}current account balance\")\n",
    "balance(15000)\n"
   ]
  }
 ],
 "metadata": {
  "kernelspec": {
   "display_name": "Python 3",
   "language": "python",
   "name": "python3"
  },
  "language_info": {
   "codemirror_mode": {
    "name": "ipython",
    "version": 3
   },
   "file_extension": ".py",
   "mimetype": "text/x-python",
   "name": "python",
   "nbconvert_exporter": "python",
   "pygments_lexer": "ipython3",
   "version": "3.12.3"
  }
 },
 "nbformat": 4,
 "nbformat_minor": 2
}
